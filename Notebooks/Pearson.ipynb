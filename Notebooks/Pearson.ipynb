{
  "nbformat": 4,
  "nbformat_minor": 0,
  "metadata": {
    "colab": {
      "name": "Pearson.ipynb",
      "provenance": [],
      "collapsed_sections": []
    },
    "kernelspec": {
      "name": "python3",
      "display_name": "Python 3"
    }
  },
  "cells": [
    {
      "cell_type": "code",
      "metadata": {
        "id": "MBisXG0hZ9DO",
        "colab_type": "code",
        "colab": {}
      },
      "source": [
        "import numpy as np\n",
        "import pandas as pd"
      ],
      "execution_count": 0,
      "outputs": []
    },
    {
      "cell_type": "code",
      "metadata": {
        "id": "8fRymql6alFf",
        "colab_type": "code",
        "colab": {}
      },
      "source": [
        "movies = pd.read_csv(\"/content/drive/My Drive/datasets/movies.csv\")\n",
        "ratings = pd.read_csv(\"/content/drive/My Drive/datasets/ratings.csv\")"
      ],
      "execution_count": 0,
      "outputs": []
    },
    {
      "cell_type": "code",
      "metadata": {
        "id": "PeiB22UcanPS",
        "colab_type": "code",
        "colab": {}
      },
      "source": [
        "ratings = ratings.drop(columns=['timestamp'])"
      ],
      "execution_count": 0,
      "outputs": []
    },
    {
      "cell_type": "code",
      "metadata": {
        "id": "Q7MkWLQhapoD",
        "colab_type": "code",
        "colab": {}
      },
      "source": [
        "count = len(ratings)\n",
        "preferences = {}"
      ],
      "execution_count": 0,
      "outputs": []
    },
    {
      "cell_type": "code",
      "metadata": {
        "id": "cP9sUbUiw8_8",
        "colab_type": "code",
        "colab": {}
      },
      "source": [
        "ratings_array = ratings.values"
      ],
      "execution_count": 0,
      "outputs": []
    },
    {
      "cell_type": "code",
      "metadata": {
        "id": "i4B09Nw9xAAy",
        "colab_type": "code",
        "colab": {}
      },
      "source": [
        "for i in range(count):\n",
        "  userId = ratings_array[i, 0]\n",
        "  movieId = ratings_array[i, 1]\n",
        "  rating = ratings_array[i, 2]\n",
        "    \n",
        "  if userId not in preferences.keys():\n",
        "    preferences[userId] = {}\n",
        "    \n",
        "  preferences[userId][movieId] = rating"
      ],
      "execution_count": 0,
      "outputs": []
    },
    {
      "cell_type": "code",
      "metadata": {
        "id": "lBL-78QUxB_5",
        "colab_type": "code",
        "colab": {}
      },
      "source": [
        "def sim_pearson(preferences, person1,person2):\n",
        "    \n",
        "  similarity = {}\n",
        "\n",
        "  #getting similar movie watched\n",
        "\n",
        "  for movie in preferences[person1]:\n",
        "    if movie in preferences[person2]:\n",
        "      similarity[movie] = 1\n",
        "\n",
        "  if len(similarity) == 0:\n",
        "    return 0\n",
        "\n",
        "  sum1 = np.sum([preferences[person1][movie] for movie in similarity])\n",
        "  sum2 = np.sum([preferences[person2][movie] for movie in similarity])\n",
        "\n",
        "  sum1sq = np.sum([np.power(preferences[person1][movie],2) for movie in similarity])\n",
        "  sum2sq = np.sum([np.power(preferences[person2][movie],2) for movie in similarity])\n",
        "\n",
        "  pSum = np.sum([preferences[person1][movie] * preferences[person2][movie] for movie in similarity])\n",
        "\n",
        "  num = pSum - (sum1 * sum2/len(similarity))\n",
        "  den = np.sqrt((sum1sq - np.power(sum1,2)/len(similarity))*(sum2sq - np.power(sum2,2)/len(similarity)))\n",
        "  if den == 0:\n",
        "    return 0\n",
        "\n",
        "  r = num/den\n",
        "\n",
        "  return r"
      ],
      "execution_count": 0,
      "outputs": []
    },
    {
      "cell_type": "code",
      "metadata": {
        "id": "9XExxqwTxFm1",
        "colab_type": "code",
        "colab": {}
      },
      "source": [
        "def top_matches(preferences, person, n = 5, similarity = sim_pearson):\n",
        "    \n",
        "  scores = [(similarity(preferences,person,reviewer),reviewer) for reviewer in preferences if reviewer != person]\n",
        "\n",
        "  scores.sort()\n",
        "  scores.reverse()\n",
        "  return scores[:n]"
      ],
      "execution_count": 0,
      "outputs": []
    },
    {
      "cell_type": "code",
      "metadata": {
        "id": "hyrtEwIDzB9M",
        "colab_type": "code",
        "colab": {}
      },
      "source": [
        "top_match = top_matches(preferences,1)"
      ],
      "execution_count": 0,
      "outputs": []
    },
    {
      "cell_type": "code",
      "metadata": {
        "id": "9mjZaefxzE6H",
        "colab_type": "code",
        "outputId": "6d5bde4f-44eb-4205-f2d1-ca0b6ca62be3",
        "colab": {
          "base_uri": "https://localhost:8080/",
          "height": 102
        }
      },
      "source": [
        "top_match"
      ],
      "execution_count": 0,
      "outputs": [
        {
          "output_type": "execute_result",
          "data": {
            "text/plain": [
              "[(1.000000000000016, 550.0),\n",
              " (1.0, 598.0),\n",
              " (1.0, 333.0),\n",
              " (1.0, 146.0),\n",
              " (1.0, 106.0)]"
            ]
          },
          "metadata": {
            "tags": []
          },
          "execution_count": 31
        }
      ]
    },
    {
      "cell_type": "code",
      "metadata": {
        "id": "EXaD8CqszHZC",
        "colab_type": "code",
        "colab": {}
      },
      "source": [
        "def recommendations(preferences, person, similarity = sim_pearson):\n",
        "  total = {}\n",
        "  simsum = {}\n",
        "\n",
        "  for reviwer in preferences:\n",
        "    if reviwer == person:\n",
        "      continue\n",
        "    sim = similarity(preferences,person,reviwer)\n",
        "      \n",
        "    if sim <= 0:\n",
        "      continue\n",
        "    for movie in preferences[reviwer]:\n",
        "          \n",
        "      if movie not in preferences[person] or preferences[person][movie] == 0:\n",
        "        total.setdefault(movie,0)\n",
        "        total[movie] += preferences[reviwer][movie] * sim\n",
        "              \n",
        "        simsum.setdefault(movie,0)\n",
        "        simsum[movie] += sim\n",
        "              \n",
        "  ranks = [(total/simsum[movie],movie) for movie,total in total.items()]\n",
        "\n",
        "  ranks.sort()\n",
        "  ranks.reverse()\n",
        "\n",
        "  return ranks[:10],person"
      ],
      "execution_count": 0,
      "outputs": []
    },
    {
      "cell_type": "code",
      "metadata": {
        "id": "peEn_sebzWkC",
        "colab_type": "code",
        "colab": {}
      },
      "source": [
        "movies_array = movies.values"
      ],
      "execution_count": 0,
      "outputs": []
    },
    {
      "cell_type": "code",
      "metadata": {
        "id": "2l8Yy9LuzaDk",
        "colab_type": "code",
        "colab": {}
      },
      "source": [
        "top_rec,user = recommendations(preferences,1)"
      ],
      "execution_count": 0,
      "outputs": []
    },
    {
      "cell_type": "code",
      "metadata": {
        "id": "ifoGPyGTzbza",
        "colab_type": "code",
        "colab": {}
      },
      "source": [
        "movies_list = []\n",
        "\n",
        "for i in top_rec:\n",
        "    for j in range(len(movies_array)):\n",
        "        if i[1] == movies_array[j][0]:\n",
        "            movies_list.append(movies_array[j])"
      ],
      "execution_count": 0,
      "outputs": []
    },
    {
      "cell_type": "code",
      "metadata": {
        "id": "da7yJEjizfF3",
        "colab_type": "code",
        "outputId": "a8b953f8-9ad9-4b25-c1a0-f3dcc9ef4ba4",
        "colab": {
          "base_uri": "https://localhost:8080/",
          "height": 221
        }
      },
      "source": [
        "print(\"Top Recommendations for you:\\n\")\n",
        "for i in movies_list:\n",
        "  print(i[1])"
      ],
      "execution_count": 0,
      "outputs": [
        {
          "output_type": "stream",
          "text": [
            "Top Recommendations for you:\n",
            "\n",
            "Rivers and Tides (2001)\n",
            "Come and See (Idi i smotri) (1985)\n",
            "Belle époque (1992)\n",
            "Won't You Be My Neighbor? (2018)\n",
            "Loving Vincent (2017)\n",
            "Black Mirror\n",
            "Bobik Visiting Barbos (1977)\n",
            "In the blue sea, in the white foam. (1984)\n",
            "On the Trail of the Bremen Town Musicians (1973)\n",
            "Gena the Crocodile (1969)\n"
          ],
          "name": "stdout"
        }
      ]
    },
    {
      "cell_type": "code",
      "metadata": {
        "id": "DePU8ALazh90",
        "colab_type": "code",
        "colab": {}
      },
      "source": [
        ""
      ],
      "execution_count": 0,
      "outputs": []
    }
  ]
}