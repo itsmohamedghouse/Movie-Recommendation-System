{
  "nbformat": 4,
  "nbformat_minor": 0,
  "metadata": {
    "colab": {
      "name": "Cosine similarity.ipynb",
      "provenance": [],
      "collapsed_sections": []
    },
    "kernelspec": {
      "name": "python3",
      "display_name": "Python 3"
    }
  },
  "cells": [
    {
      "cell_type": "code",
      "metadata": {
        "id": "ECqmKN1gTY_U",
        "colab_type": "code",
        "colab": {}
      },
      "source": [
        "#Import necessary Libraries\n",
        "\n",
        "import numpy as np\n",
        "import pandas as pd\n",
        "import matplotlib.pyplot as plt\n",
        "from wordcloud import WordCloud, STOPWORDS\n",
        "\n",
        "%matplotlib inline"
      ],
      "execution_count": 0,
      "outputs": []
    },
    {
      "cell_type": "code",
      "metadata": {
        "id": "UmUWY5KMUPe4",
        "colab_type": "code",
        "colab": {}
      },
      "source": [
        "# Load necessary CSV Files - ratings.csv, movies.csv.\n",
        "\n",
        "movies = pd.read_csv(\"/content/drive/My Drive/datasets/movies.csv\")\n",
        "ratings = pd.read_csv(\"/content/drive/My Drive/datasets/ratings.csv\")"
      ],
      "execution_count": 0,
      "outputs": []
    },
    {
      "cell_type": "code",
      "metadata": {
        "id": "DZRlFLeKUrHM",
        "colab_type": "code",
        "outputId": "131f53b1-7570-4e99-ad0e-050468b28a68",
        "colab": {
          "base_uri": "https://localhost:8080/",
          "height": 204
        }
      },
      "source": [
        "#contents in the movies.csv file\n",
        "\n",
        "movies.head()"
      ],
      "execution_count": 18,
      "outputs": [
        {
          "output_type": "execute_result",
          "data": {
            "text/html": [
              "<div>\n",
              "<style scoped>\n",
              "    .dataframe tbody tr th:only-of-type {\n",
              "        vertical-align: middle;\n",
              "    }\n",
              "\n",
              "    .dataframe tbody tr th {\n",
              "        vertical-align: top;\n",
              "    }\n",
              "\n",
              "    .dataframe thead th {\n",
              "        text-align: right;\n",
              "    }\n",
              "</style>\n",
              "<table border=\"1\" class=\"dataframe\">\n",
              "  <thead>\n",
              "    <tr style=\"text-align: right;\">\n",
              "      <th></th>\n",
              "      <th>movieId</th>\n",
              "      <th>title</th>\n",
              "      <th>genres</th>\n",
              "    </tr>\n",
              "  </thead>\n",
              "  <tbody>\n",
              "    <tr>\n",
              "      <th>0</th>\n",
              "      <td>1</td>\n",
              "      <td>Toy Story (1995)</td>\n",
              "      <td>Adventure|Animation|Children|Comedy|Fantasy</td>\n",
              "    </tr>\n",
              "    <tr>\n",
              "      <th>1</th>\n",
              "      <td>2</td>\n",
              "      <td>Jumanji (1995)</td>\n",
              "      <td>Adventure|Children|Fantasy</td>\n",
              "    </tr>\n",
              "    <tr>\n",
              "      <th>2</th>\n",
              "      <td>3</td>\n",
              "      <td>Grumpier Old Men (1995)</td>\n",
              "      <td>Comedy|Romance</td>\n",
              "    </tr>\n",
              "    <tr>\n",
              "      <th>3</th>\n",
              "      <td>4</td>\n",
              "      <td>Waiting to Exhale (1995)</td>\n",
              "      <td>Comedy|Drama|Romance</td>\n",
              "    </tr>\n",
              "    <tr>\n",
              "      <th>4</th>\n",
              "      <td>5</td>\n",
              "      <td>Father of the Bride Part II (1995)</td>\n",
              "      <td>Comedy</td>\n",
              "    </tr>\n",
              "  </tbody>\n",
              "</table>\n",
              "</div>"
            ],
            "text/plain": [
              "   movieId  ...                                       genres\n",
              "0        1  ...  Adventure|Animation|Children|Comedy|Fantasy\n",
              "1        2  ...                   Adventure|Children|Fantasy\n",
              "2        3  ...                               Comedy|Romance\n",
              "3        4  ...                         Comedy|Drama|Romance\n",
              "4        5  ...                                       Comedy\n",
              "\n",
              "[5 rows x 3 columns]"
            ]
          },
          "metadata": {
            "tags": []
          },
          "execution_count": 18
        }
      ]
    },
    {
      "cell_type": "code",
      "metadata": {
        "id": "lQ19w_HPUxbd",
        "colab_type": "code",
        "outputId": "f3e1900a-da00-453f-e013-a980821b756e",
        "colab": {
          "base_uri": "https://localhost:8080/",
          "height": 204
        }
      },
      "source": [
        "#contents in the ratings.csv file\n",
        "\n",
        "ratings.head()"
      ],
      "execution_count": 19,
      "outputs": [
        {
          "output_type": "execute_result",
          "data": {
            "text/html": [
              "<div>\n",
              "<style scoped>\n",
              "    .dataframe tbody tr th:only-of-type {\n",
              "        vertical-align: middle;\n",
              "    }\n",
              "\n",
              "    .dataframe tbody tr th {\n",
              "        vertical-align: top;\n",
              "    }\n",
              "\n",
              "    .dataframe thead th {\n",
              "        text-align: right;\n",
              "    }\n",
              "</style>\n",
              "<table border=\"1\" class=\"dataframe\">\n",
              "  <thead>\n",
              "    <tr style=\"text-align: right;\">\n",
              "      <th></th>\n",
              "      <th>userId</th>\n",
              "      <th>movieId</th>\n",
              "      <th>rating</th>\n",
              "      <th>timestamp</th>\n",
              "    </tr>\n",
              "  </thead>\n",
              "  <tbody>\n",
              "    <tr>\n",
              "      <th>0</th>\n",
              "      <td>1</td>\n",
              "      <td>1</td>\n",
              "      <td>4.0</td>\n",
              "      <td>964982703</td>\n",
              "    </tr>\n",
              "    <tr>\n",
              "      <th>1</th>\n",
              "      <td>1</td>\n",
              "      <td>3</td>\n",
              "      <td>4.0</td>\n",
              "      <td>964981247</td>\n",
              "    </tr>\n",
              "    <tr>\n",
              "      <th>2</th>\n",
              "      <td>1</td>\n",
              "      <td>6</td>\n",
              "      <td>4.0</td>\n",
              "      <td>964982224</td>\n",
              "    </tr>\n",
              "    <tr>\n",
              "      <th>3</th>\n",
              "      <td>1</td>\n",
              "      <td>47</td>\n",
              "      <td>5.0</td>\n",
              "      <td>964983815</td>\n",
              "    </tr>\n",
              "    <tr>\n",
              "      <th>4</th>\n",
              "      <td>1</td>\n",
              "      <td>50</td>\n",
              "      <td>5.0</td>\n",
              "      <td>964982931</td>\n",
              "    </tr>\n",
              "  </tbody>\n",
              "</table>\n",
              "</div>"
            ],
            "text/plain": [
              "   userId  movieId  rating  timestamp\n",
              "0       1        1     4.0  964982703\n",
              "1       1        3     4.0  964981247\n",
              "2       1        6     4.0  964982224\n",
              "3       1       47     5.0  964983815\n",
              "4       1       50     5.0  964982931"
            ]
          },
          "metadata": {
            "tags": []
          },
          "execution_count": 19
        }
      ]
    },
    {
      "cell_type": "code",
      "metadata": {
        "id": "MNDrYTwHJokV",
        "colab_type": "code",
        "outputId": "036103ed-a1bd-4bfa-b8c8-c74d9c24a509",
        "colab": {
          "base_uri": "https://localhost:8080/",
          "height": 34
        }
      },
      "source": [
        "#minimum rating given to a movie\n",
        "\n",
        "ratings['rating'].min() "
      ],
      "execution_count": 20,
      "outputs": [
        {
          "output_type": "execute_result",
          "data": {
            "text/plain": [
              "0.5"
            ]
          },
          "metadata": {
            "tags": []
          },
          "execution_count": 20
        }
      ]
    },
    {
      "cell_type": "code",
      "metadata": {
        "id": "lLUHPKsMJuF4",
        "colab_type": "code",
        "outputId": "f0672194-7ce2-45a7-b58b-18b8d819d03f",
        "colab": {
          "base_uri": "https://localhost:8080/",
          "height": 34
        }
      },
      "source": [
        "#maximum rating given to a movie\n",
        "\n",
        "ratings['rating'].max()"
      ],
      "execution_count": 21,
      "outputs": [
        {
          "output_type": "execute_result",
          "data": {
            "text/plain": [
              "5.0"
            ]
          },
          "metadata": {
            "tags": []
          },
          "execution_count": 21
        }
      ]
    },
    {
      "cell_type": "code",
      "metadata": {
        "id": "bPfNdV72peT-",
        "colab_type": "code",
        "outputId": "46140f19-36c2-48d4-ada7-28aacf4c80f8",
        "colab": {
          "base_uri": "https://localhost:8080/",
          "height": 34
        }
      },
      "source": [
        "#Total length of ratings table\n",
        "\n",
        "len(ratings)"
      ],
      "execution_count": 22,
      "outputs": [
        {
          "output_type": "execute_result",
          "data": {
            "text/plain": [
              "100836"
            ]
          },
          "metadata": {
            "tags": []
          },
          "execution_count": 22
        }
      ]
    },
    {
      "cell_type": "code",
      "metadata": {
        "id": "V-WA2hEsKUXe",
        "colab_type": "code",
        "outputId": "39e3db11-13e8-4ca5-ba40-cd53cfa8c846",
        "colab": {
          "base_uri": "https://localhost:8080/",
          "height": 85
        }
      },
      "source": [
        "#is any row null\n",
        "\n",
        "movies.isnull().any()"
      ],
      "execution_count": 23,
      "outputs": [
        {
          "output_type": "execute_result",
          "data": {
            "text/plain": [
              "movieId    False\n",
              "title      False\n",
              "genres     False\n",
              "dtype: bool"
            ]
          },
          "metadata": {
            "tags": []
          },
          "execution_count": 23
        }
      ]
    },
    {
      "cell_type": "code",
      "metadata": {
        "id": "Ep7-IFjhKZw7",
        "colab_type": "code",
        "outputId": "2131cffc-c5dd-4272-cf61-3e0936ba8a2b",
        "colab": {
          "base_uri": "https://localhost:8080/",
          "height": 85
        }
      },
      "source": [
        "#is any row null\n",
        "\n",
        "ratings.isnull().any()"
      ],
      "execution_count": 0,
      "outputs": [
        {
          "output_type": "execute_result",
          "data": {
            "text/plain": [
              "userId     False\n",
              "movieId    False\n",
              "rating     False\n",
              "dtype: bool"
            ]
          },
          "metadata": {
            "tags": []
          },
          "execution_count": 186
        }
      ]
    },
    {
      "cell_type": "code",
      "metadata": {
        "id": "nAYrKwgptzao",
        "colab_type": "code",
        "colab": {
          "base_uri": "https://localhost:8080/",
          "height": 265
        },
        "outputId": "6185e217-310e-489d-ec31-9351c585ff84"
      },
      "source": [
        "#The above plot shows that the movie 'Toystory' has got 4 (stars) maximum\n",
        "\n",
        "toystory_data = ratings[ratings.movieId==1]\n",
        "\n",
        "plt.hist(x=toystory_data['rating'])\n",
        "plt.show()"
      ],
      "execution_count": 26,
      "outputs": [
        {
          "output_type": "display_data",
          "data": {
            "image/png": "[encoded data removed]",
            "text/plain": [
              "<Figure size 432x288 with 1 Axes>"
            ]
          },
          "metadata": {
            "tags": [],
            "needs_background": "light"
          }
        }
      ]
    },
    {
      "cell_type": "code",
      "metadata": {
        "id": "XiBPghTSKl8C",
        "colab_type": "code",
        "colab": {}
      },
      "source": [
        "del ratings['timestamp']"
      ],
      "execution_count": 0,
      "outputs": []
    },
    {
      "cell_type": "code",
      "metadata": {
        "id": "wdReewuTphRx",
        "colab_type": "code",
        "outputId": "72595fff-b10f-43ad-936e-8b9d3bb280a3",
        "colab": {
          "base_uri": "https://localhost:8080/",
          "height": 51
        }
      },
      "source": [
        "print(len(ratings.userId.unique()))     #unique users\n",
        "print(len(ratings.movieId.unique()))    #unique movies"
      ],
      "execution_count": 0,
      "outputs": [
        {
          "output_type": "stream",
          "text": [
            "610\n",
            "9724\n"
          ],
          "name": "stdout"
        }
      ]
    },
    {
      "cell_type": "code",
      "metadata": {
        "id": "ezzF61p3LAs_",
        "colab_type": "code",
        "colab": {}
      },
      "source": [
        "#define a function that counts the number of times each genre appear:\n",
        "def count_word(df, ref_col, liste):\n",
        "    keyword_count = dict()\n",
        "    for s in liste: keyword_count[s] = 0\n",
        "    for liste_keywords in df[ref_col].str.split('|'):\n",
        "        if type(liste_keywords) == float and pd.isnull(liste_keywords): continue\n",
        "        for s in liste_keywords: \n",
        "            if pd.notnull(s): keyword_count[s] += 1\n",
        "    # convert the dictionary in a list to sort the keywords  by frequency\n",
        "    keyword_occurences = []\n",
        "    for k,v in keyword_count.items():\n",
        "        keyword_occurences.append([k,v])\n",
        "    keyword_occurences.sort(key = lambda x:x[1], reverse = True)\n",
        "    return keyword_occurences, keyword_count\n",
        "\n"
      ],
      "execution_count": 0,
      "outputs": []
    },
    {
      "cell_type": "code",
      "metadata": {
        "id": "VLpwR1e7O2qJ",
        "colab_type": "code",
        "colab": {}
      },
      "source": [
        "#here we  make census of the genres:\n",
        "genre_labels = set()\n",
        "for s in movies['genres'].str.split('|').values:\n",
        "    genre_labels = genre_labels.union(set(s))"
      ],
      "execution_count": 0,
      "outputs": []
    },
    {
      "cell_type": "code",
      "metadata": {
        "id": "BHRmiPUqN-as",
        "colab_type": "code",
        "colab": {}
      },
      "source": [
        "#counting how many times each of genres occur:\n",
        "keyword_occurences, dum = count_word(movies, 'genres', genre_labels)"
      ],
      "execution_count": 0,
      "outputs": []
    },
    {
      "cell_type": "code",
      "metadata": {
        "id": "IQ2dlQnTM_FT",
        "colab_type": "code",
        "outputId": "5e2c49e3-021d-49cf-a767-b098e68a6ce8",
        "colab": {
          "base_uri": "https://localhost:8080/",
          "height": 357
        }
      },
      "source": [
        "# Function that control the color of the words\n",
        "def random_color_func(word=None, font_size=None, position=None,\n",
        "                      orientation=None, font_path=None, random_state=None):\n",
        "    h = int(360.0 * tone / 255.0)\n",
        "    s = int(100.0 * 255.0 / 255.0)\n",
        "    l = int(100.0 * float(random_state.randint(70, 120)) / 255.0)\n",
        "    return \"hsl({}, {}%, {}%)\".format(h, s, l)\n",
        "\n",
        "\n",
        "#Finally, the result is shown as a wordcloud:\n",
        "words = dict()\n",
        "trunc_occurences = keyword_occurences[0:50]\n",
        "for s in trunc_occurences:\n",
        "    words[s[0]] = s[1]\n",
        "tone = 100 # define the color of the words\n",
        "f, ax = plt.subplots(figsize=(14, 6))\n",
        "wordcloud = WordCloud(width=550,height=300, background_color='black', \n",
        "                      max_words=1628,relative_scaling=0.7,\n",
        "                      color_func = random_color_func,\n",
        "                      normalize_plurals=False)\n",
        "wordcloud.generate_from_frequencies(words)\n",
        "plt.imshow(wordcloud, interpolation=\"bilinear\")\n",
        "plt.axis('off')\n",
        "plt.show()"
      ],
      "execution_count": 0,
      "outputs": [
        {
          "output_type": "display_data",
          "data": {
            "image/png": "[encoded data removed]",
            "text/plain": [
              "<Figure size 1008x432 with 1 Axes>"
            ]
          },
          "metadata": {
            "tags": [],
            "needs_background": "light"
          }
        }
      ]
    },
    {
      "cell_type": "code",
      "metadata": {
        "id": "QpDklUaXMWxX",
        "colab_type": "code",
        "outputId": "4aaf387b-834d-4a3a-9253-256955eb8ccb",
        "colab": {
          "base_uri": "https://localhost:8080/",
          "height": 522
        }
      },
      "source": [
        "# lets display the same result in the histogram\n",
        "fig = plt.figure(1, figsize=(18,13))\n",
        "ax2 = fig.add_subplot(2,1,2)\n",
        "y_axis = [i[1] for i in trunc_occurences]\n",
        "x_axis = [k for k,i in enumerate(trunc_occurences)]\n",
        "x_label = [i[0] for i in trunc_occurences]\n",
        "plt.xticks(rotation=85, fontsize = 15)\n",
        "plt.yticks(fontsize = 15)\n",
        "plt.xticks(x_axis, x_label)\n",
        "plt.ylabel(\"No. of occurences\", fontsize = 24, labelpad = 0)\n",
        "ax2.bar(x_axis, y_axis, align = 'center', color='r')\n",
        "plt.title(\"Popularity of Genres\",bbox={'facecolor':'k', 'pad':5},color='w',fontsize = 30)\n",
        "plt.show()"
      ],
      "execution_count": 0,
      "outputs": [
        {
          "output_type": "display_data",
          "data": {
            "image/png": "[encoded data removed]",
            "text/plain": [
              "<Figure size 1296x936 with 1 Axes>"
            ]
          },
          "metadata": {
            "tags": [],
            "needs_background": "light"
          }
        }
      ]
    },
    {
      "cell_type": "code",
      "metadata": {
        "id": "whTh0Sajpmml",
        "colab_type": "code",
        "colab": {}
      },
      "source": [
        "#Buiding a list of dictionaries where each dictionary represents a movie. user_id is the key and corresponding rating is its value. \n",
        "\n",
        "listOfDictonaries=[]\n",
        "indexMap = {}\n",
        "reverseIndexMap = {}\n",
        "ptr=0;\n",
        "test = ratings\n",
        "test=test[['userId','rating']].groupby(test['movieId'])     # group the ratings table by movie Id\n",
        "\n",
        "#test.groups -------> To view the groups created\n",
        "#test.groups.keys() --------------> Gives the keys i.e movie ids\n",
        "\n",
        "for groupKey in test.groups.keys():\n",
        "    tempDict={}\n",
        "\n",
        "    group = test.get_group(groupKey)   #get a group(consists od rating and userid) of particular movieId\n",
        "\n",
        "    for i in range(0,len(group)):\n",
        "        tempDict[group.iloc[i,0]]=group.iloc[i,1]\n",
        "    indexMap[ptr]=groupKey                        #A dictionary where key is indexed value(0,1,2 ....) and value is movieId     \n",
        "    reverseIndexMap[groupKey] = ptr               #Reverse of indexMap. Here movieId is key and index is value\n",
        "    ptr=ptr+1\n",
        "    listOfDictonaries.append(tempDict)"
      ],
      "execution_count": 0,
      "outputs": []
    },
    {
      "cell_type": "code",
      "metadata": {
        "id": "SV8VoiP7qQ8F",
        "colab_type": "code",
        "colab": {}
      },
      "source": [
        "#We then use sklearn's DictVectorizer() function to create vectors corresponding to each movie. We are trying to create a vector space with users as column \n",
        "#vectors. Each point in the vector space represents a movie. Rating of the movie given an user is its magnitude. We then calculate similarity/distance between \n",
        "#movies in this vector space.\n",
        "\n",
        "\n",
        "from sklearn.feature_extraction import DictVectorizer\n",
        "dictVectorizer = DictVectorizer(sparse=True)\n",
        "vector = dictVectorizer.fit_transform(listOfDictonaries)"
      ],
      "execution_count": 0,
      "outputs": []
    },
    {
      "cell_type": "markdown",
      "metadata": {
        "id": "MTRMp_hI3faF",
        "colab_type": "text"
      },
      "source": [
        "###We will use cosine similarity to measure distance.Why? \n",
        "\n",
        "Because, cosine distance works comparatively good on vectors than euclidean etc. metrics.\n",
        "Here's the formula which is used to calculate cosine distance.\n",
        "cosine-distance"
      ]
    },
    {
      "cell_type": "markdown",
      "metadata": {
        "id": "BMLJe_7G3zLy",
        "colab_type": "text"
      },
      "source": [
        "![alt text](https://distilledai.com/wp-content/uploads/2020/04/cosine-similarity.png)"
      ]
    },
    {
      "cell_type": "code",
      "metadata": {
        "id": "Q6JTwlAjqcqZ",
        "colab_type": "code",
        "outputId": "43c0005b-36d0-4ea8-b395-06b3a6aa438f",
        "colab": {
          "base_uri": "https://localhost:8080/",
          "height": 136
        }
      },
      "source": [
        "#We finally use sklearn's consine_similarity function to calculate pairwise similarity matrix\n",
        "\n",
        "from sklearn.metrics.pairwise import cosine_similarity\n",
        "pairwiseSimilarity = cosine_similarity(vector)\n",
        "print(pairwiseSimilarity)       #gives a matrix of distances between 2 vectors"
      ],
      "execution_count": 0,
      "outputs": [
        {
          "output_type": "stream",
          "text": [
            "[[1.         0.41056206 0.2969169  ... 0.         0.         0.        ]\n",
            " [0.41056206 1.         0.28243799 ... 0.         0.         0.        ]\n",
            " [0.2969169  0.28243799 1.         ... 0.         0.         0.        ]\n",
            " ...\n",
            " [0.         0.         0.         ... 1.         1.         0.        ]\n",
            " [0.         0.         0.         ... 1.         1.         0.        ]\n",
            " [0.         0.         0.         ... 0.         0.         1.        ]]\n"
          ],
          "name": "stdout"
        }
      ]
    },
    {
      "cell_type": "code",
      "metadata": {
        "id": "UnH3nFfCqfJE",
        "colab_type": "code",
        "colab": {}
      },
      "source": [
        "#At last we define a function that takes an input id(movie Id) and outputs 5 top most recomendations\n",
        "\n",
        "def moviedetails(movie_id):\n",
        "    print(\"Title:\", movies[movies['movieId']==movie_id]['title'].values[0])\n",
        "    print(\"Genres:\",movies[movies['movieId']==movie_id]['genres'].values[0])\n",
        "    print(\"Printing Movie-ID:\",movie_id)\n",
        "    print(\"-\"*60)\n",
        "\n",
        "\n",
        "\n",
        "#np.argsort(pairwiseSimilarity[row]) gives the sorted array of similarities of given row. This sorts in ascendending order of similarity\n",
        "#But we need highest simialr matrix. So we fetch from last.But the last first movie is the movie itself. So we leave that fetch from second last one using \n",
        "#[-7:-2] i.e it fetches from last 7th element to last 2nd element. To reverse that order we use [::-1] \n",
        "def topRecommandations(movie_id):\n",
        "    row = reverseIndexMap[movie_id]\n",
        "    print(\"+++++------Movie entered--------+++++\")\n",
        "    moviedetails(movie_id)\n",
        "    print(\"\\n\\n\")\n",
        "    print(\"*****-------Recommendations----------*****\")\n",
        "\n",
        "    similarMovieIDs = [moviedetails(indexMap[i]) for i in np.argsort(pairwiseSimilarity[row])[-7:-2][::-1]]"
      ],
      "execution_count": 0,
      "outputs": []
    },
    {
      "cell_type": "markdown",
      "metadata": {
        "id": "4vqIXts9G77_",
        "colab_type": "text"
      },
      "source": [
        "### Let's find out similar movies of \"Star wars (1977)\" movie"
      ]
    },
    {
      "cell_type": "code",
      "metadata": {
        "id": "KZ_10R1MrpQM",
        "colab_type": "code",
        "outputId": "74b8bda7-8018-45c2-9ea0-6c6758ba9c69",
        "colab": {
          "base_uri": "https://localhost:8080/",
          "height": 510
        }
      },
      "source": [
        "topRecommandations(260)"
      ],
      "execution_count": 0,
      "outputs": [
        {
          "output_type": "stream",
          "text": [
            "+++++------Movie entered--------+++++\n",
            "Title: Star Wars: Episode IV - A New Hope (1977)\n",
            "Genres: Action|Adventure|Sci-Fi\n",
            "Printing Movie-ID: 260\n",
            "------------------------------------------------------------\n",
            "\n",
            "\n",
            "\n",
            "*****-------Recommendations----------*****\n",
            "Title: Star Wars: Episode VI - Return of the Jedi (1983)\n",
            "Genres: Action|Adventure|Sci-Fi\n",
            "Printing Movie-ID: 1210\n",
            "------------------------------------------------------------\n",
            "Title: Raiders of the Lost Ark (Indiana Jones and the Raiders of the Lost Ark) (1981)\n",
            "Genres: Action|Adventure\n",
            "Printing Movie-ID: 1198\n",
            "------------------------------------------------------------\n",
            "Title: Matrix, The (1999)\n",
            "Genres: Action|Sci-Fi|Thriller\n",
            "Printing Movie-ID: 2571\n",
            "------------------------------------------------------------\n",
            "Title: Indiana Jones and the Last Crusade (1989)\n",
            "Genres: Action|Adventure\n",
            "Printing Movie-ID: 1291\n",
            "------------------------------------------------------------\n",
            "Title: Back to the Future (1985)\n",
            "Genres: Adventure|Comedy|Sci-Fi\n",
            "Printing Movie-ID: 1270\n",
            "------------------------------------------------------------\n"
          ],
          "name": "stdout"
        }
      ]
    },
    {
      "cell_type": "markdown",
      "metadata": {
        "id": "SeUXLPGAHUF5",
        "colab_type": "text"
      },
      "source": [
        "### Cool !!\n",
        "\n",
        "### What a Recommendation..\n",
        "\n",
        "\"Return of the Jedi (1983)\" is Star Wars movie and other movies are also Sci-Fi and Action movie "
      ]
    }
  ]
}