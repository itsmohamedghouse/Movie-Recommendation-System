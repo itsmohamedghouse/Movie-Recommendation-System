{
  "nbformat": 4,
  "nbformat_minor": 0,
  "metadata": {
    "colab": {
      "name": "Euclidian.ipynb",
      "provenance": [],
      "collapsed_sections": []
    },
    "kernelspec": {
      "name": "python3",
      "display_name": "Python 3"
    }
  },
  "cells": [
    {
      "cell_type": "code",
      "metadata": {
        "id": "1P54hKjiVdps",
        "colab_type": "code",
        "colab": {}
      },
      "source": [
        "import numpy as np\n",
        "import pandas as pd"
      ],
      "execution_count": 0,
      "outputs": []
    },
    {
      "cell_type": "code",
      "metadata": {
        "id": "DxN_4WEvVwXu",
        "colab_type": "code",
        "colab": {}
      },
      "source": [
        "movies = pd.read_csv(\"/content/drive/My Drive/datasets/movies.csv\")\n",
        "ratings = pd.read_csv(\"/content/drive/My Drive/datasets/ratings.csv\")"
      ],
      "execution_count": 0,
      "outputs": []
    },
    {
      "cell_type": "code",
      "metadata": {
        "id": "AICcYShQWvFO",
        "colab_type": "code",
        "colab": {}
      },
      "source": [
        "ratings = ratings.drop(columns=['timestamp'])"
      ],
      "execution_count": 0,
      "outputs": []
    },
    {
      "cell_type": "code",
      "metadata": {
        "id": "68vO6YqyVzh4",
        "colab_type": "code",
        "colab": {}
      },
      "source": [
        "count = len(ratings)\n",
        "preferences = {}"
      ],
      "execution_count": 0,
      "outputs": []
    },
    {
      "cell_type": "code",
      "metadata": {
        "id": "xVqO1QZVWBtm",
        "colab_type": "code",
        "colab": {}
      },
      "source": [
        "ratings_array = ratings.values"
      ],
      "execution_count": 0,
      "outputs": []
    },
    {
      "cell_type": "code",
      "metadata": {
        "id": "Yfc4x0TbWIOA",
        "colab_type": "code",
        "colab": {}
      },
      "source": [
        "for i in range(count):\n",
        "  userId = ratings_array[i, 0]\n",
        "  movieId = ratings_array[i, 1]\n",
        "  rating = ratings_array[i, 2]\n",
        "    \n",
        "  if userId not in preferences.keys():\n",
        "    preferences[userId] = {}\n",
        "    \n",
        "  preferences[userId][movieId] = rating"
      ],
      "execution_count": 0,
      "outputs": []
    },
    {
      "cell_type": "code",
      "metadata": {
        "id": "h45G6E9DXn00",
        "colab_type": "code",
        "outputId": "ef087c3f-b75c-46e8-86d8-9cd812d2a807",
        "colab": {
          "base_uri": "https://localhost:8080/",
          "height": 34
        }
      },
      "source": [
        "preferences[1][50]"
      ],
      "execution_count": 0,
      "outputs": [
        {
          "output_type": "execute_result",
          "data": {
            "text/plain": [
              "5.0"
            ]
          },
          "metadata": {
            "tags": []
          },
          "execution_count": 92
        }
      ]
    },
    {
      "cell_type": "code",
      "metadata": {
        "id": "64z2LSyTXsQt",
        "colab_type": "code",
        "colab": {}
      },
      "source": [
        "def sim_euclidian(preferences, person1,person2):\n",
        "    \n",
        "  similarity = {}\n",
        "\n",
        "  #getting similar movie watched\n",
        "\n",
        "  for movie in preferences[person1]:\n",
        "    if movie in preferences[person2]:\n",
        "      similarity[movie] = 1\n",
        "\n",
        "  if len(similarity) == 0:\n",
        "    return 0\n",
        "\n",
        "  Euclidian_distance = np.sqrt(np.sum([np.power(preferences[person1][movie] - preferences[person2][movie],2)\n",
        "  for movie in preferences[person1] if movie in preferences[person2]]))\n",
        "\n",
        "  return 1/(1 + Euclidian_distance)"
      ],
      "execution_count": 0,
      "outputs": []
    },
    {
      "cell_type": "code",
      "metadata": {
        "id": "W-ZAvHCsYLnb",
        "colab_type": "code",
        "colab": {}
      },
      "source": [
        "def top_matches(preferences, person, n = 5, similarity = sim_euclidian):\n",
        "    \n",
        "  scores = [(similarity(preferences,person,reviewer),reviewer) for reviewer in preferences if reviewer != person]\n",
        "\n",
        "  scores.sort()\n",
        "  scores.reverse()\n",
        "  return scores[:n]"
      ],
      "execution_count": 0,
      "outputs": []
    },
    {
      "cell_type": "code",
      "metadata": {
        "id": "9xIeFrA4YUS5",
        "colab_type": "code",
        "colab": {}
      },
      "source": [
        "top_match = top_matches(preferences,1)"
      ],
      "execution_count": 0,
      "outputs": []
    },
    {
      "cell_type": "code",
      "metadata": {
        "id": "OUDSurFdYWyM",
        "colab_type": "code",
        "outputId": "32dac445-2b7b-41c1-f0d6-fcf373cb9196",
        "colab": {
          "base_uri": "https://localhost:8080/",
          "height": 102
        }
      },
      "source": [
        "top_match"
      ],
      "execution_count": 0,
      "outputs": [
        {
          "output_type": "execute_result",
          "data": {
            "text/plain": [
              "[(1.0, 291.0),\n",
              " (1.0, 253.0),\n",
              " (1.0, 85.0),\n",
              " (1.0, 77.0),\n",
              " (0.6666666666666666, 550.0)]"
            ]
          },
          "metadata": {
            "tags": []
          },
          "execution_count": 96
        }
      ]
    },
    {
      "cell_type": "code",
      "metadata": {
        "id": "DtXLPbY4YZl8",
        "colab_type": "code",
        "colab": {}
      },
      "source": [
        "def recommendations(preferences, person, similarity = sim_euclidian):\n",
        "  total = {}\n",
        "  simsum = {}\n",
        "\n",
        "  for reviwer in preferences:\n",
        "    if reviwer == person:\n",
        "      continue\n",
        "    sim = similarity(preferences,person,reviwer)\n",
        "      \n",
        "    if sim <= 0:\n",
        "      continue\n",
        "    for movie in preferences[reviwer]:\n",
        "          \n",
        "      if movie not in preferences[person] or preferences[person][movie] == 0:\n",
        "        total.setdefault(movie,0)\n",
        "        total[movie] += preferences[reviwer][movie] * sim\n",
        "              \n",
        "        simsum.setdefault(movie,0)\n",
        "        simsum[movie] += sim\n",
        "              \n",
        "  ranks = [(total/simsum[movie],movie) for movie,total in total.items()]\n",
        "\n",
        "  ranks.sort()\n",
        "  ranks.reverse()\n",
        "\n",
        "  return ranks[:10],person"
      ],
      "execution_count": 0,
      "outputs": []
    },
    {
      "cell_type": "code",
      "metadata": {
        "id": "N3QnqJh1ZDiq",
        "colab_type": "code",
        "colab": {}
      },
      "source": [
        "movies_array = movies.values"
      ],
      "execution_count": 0,
      "outputs": []
    },
    {
      "cell_type": "code",
      "metadata": {
        "id": "BIK1hylnZK9O",
        "colab_type": "code",
        "colab": {}
      },
      "source": [
        "top_rec,user = recommendations(preferences,1)"
      ],
      "execution_count": 0,
      "outputs": []
    },
    {
      "cell_type": "code",
      "metadata": {
        "id": "dmMioTqIZUGe",
        "colab_type": "code",
        "colab": {}
      },
      "source": [
        "movies_list = []\n",
        "\n",
        "for i in top_rec:\n",
        "    for j in range(len(movies_array)):\n",
        "        if i[1] == movies_array[j][0]:\n",
        "            movies_list.append(movies_array[j])"
      ],
      "execution_count": 0,
      "outputs": []
    },
    {
      "cell_type": "code",
      "metadata": {
        "id": "c0TGy6PZZdP2",
        "colab_type": "code",
        "outputId": "f555540d-ada1-42d5-cb4d-a52b5c7b5496",
        "colab": {
          "base_uri": "https://localhost:8080/",
          "height": 221
        }
      },
      "source": [
        "print(\"Top Recommendations for you:\\n\")\n",
        "for i in movies_list:\n",
        "  print(i[1])"
      ],
      "execution_count": 0,
      "outputs": [
        {
          "output_type": "stream",
          "text": [
            "Top Recommendations for you:\n",
            "\n",
            "Very Potter Sequel, A (2010)\n",
            "12 Angry Men (1997)\n",
            "Mr. Skeffington (1944)\n",
            "Come and See (Idi i smotri) (1985)\n",
            "Won't You Be My Neighbor? (2018)\n",
            "De platte jungle (1978)\n",
            "Blue Planet II (2017)\n",
            "Loving Vincent (2017)\n",
            "Black Mirror\n",
            "Bobik Visiting Barbos (1977)\n"
          ],
          "name": "stdout"
        }
      ]
    },
    {
      "cell_type": "code",
      "metadata": {
        "id": "oYA7v1ANZmvp",
        "colab_type": "code",
        "colab": {}
      },
      "source": [
        ""
      ],
      "execution_count": 0,
      "outputs": []
    }
  ]
}